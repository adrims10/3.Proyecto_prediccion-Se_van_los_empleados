{
 "cells": [
  {
   "cell_type": "code",
   "execution_count": 2,
   "metadata": {},
   "outputs": [],
   "source": [
    "import os \n",
    "import sys\n",
    "sys.path.append(\"../\")\n",
    "from src import soporte_predictor as sp"
   ]
  },
  {
   "cell_type": "code",
   "execution_count": 5,
   "metadata": {},
   "outputs": [],
   "source": [
    "# Ponemos el ejemplo de un empleado para saber si se va a ir de la empresa.\n",
    "datos_empleados = {\n",
    "    'Age': 51,\n",
    "    'Attrition': 'Yes',\n",
    "    'BusinessTravel': 'Travel_Rarely',\n",
    "    'Department': 'Sales',\n",
    "    'DistanceFromHome': 6,\n",
    "    'Education': 2,\n",
    "    'EducationField': 'Life Sciences',\n",
    "    'Gender': 'Female',\n",
    "    'JobLevel': 1,\n",
    "    'JobRole': 'Healthcare Representative',\n",
    "    'MaritalStatus': 'Married',\n",
    "    'MonthlyIncome': 131160,\n",
    "    'PercentSalaryHike': 11,\n",
    "    'StockOptionLevel': 0,\n",
    "    'TrainingTimesLastYear': 6,\n",
    "    'YearsAtCompany': 1,\n",
    "    'YearsSinceLastPromotion': 0,\n",
    "    'YearsWithCurrManager': 0,\n",
    "    'JobInvolvement': 3,\n",
    "    'PerformanceRating': 3,\n",
    "    'EnvironmentSatisfaction_knn': 3.0,  # KNN de 'EnvironmentSatisfaction'\n",
    "    'JobSatisfaction_knn': 4.0,  # KNN 'JobSatisfaction'\n",
    "    'WorkLifeBalance_knn': 4.0,\n",
    "    'NumCompaniesWorked_knn': 1.0,  # KNN 'NumCompaniesWorked'\n",
    "    'TotalWorkingYears_knn': 1.0  # KNN of 'TotalWorkingYears'\n",
    "}\n"
   ]
  },
  {
   "cell_type": "code",
   "execution_count": null,
   "metadata": {},
   "outputs": [
    {
     "name": "stdout",
     "output_type": "stream",
     "text": [
      "Predicción: 0 (0: No, 1: Sí)\n",
      "Probabilidades: [0.8222095  0.17779054]\n",
      "La probabilidad de que el empleado no se vaya es:82.22%\n",
      "La probabilidad de que el empleado si se  vaya es: 17.78%\n"
     ]
    }
   ],
   "source": [
    "# Llamamos la función de la prediccion \n",
    "prediction, prob = sp.predecir_attrition(datos_empleados)\n",
    "\n",
    "# Mostrar los resultados de la predicción\n",
    "print(f\"Predicción: {prediction} (0: No, 1: Sí)\")\n",
    "print(f\"Probabilidades: {prob}\")\n",
    "print(f\"La probabilidad de que el empleado no se vaya es:{prob[0] * 100:.2f}%\")\n",
    "print(f\"La probabilidad de que el empleado si se  vaya es: {prob[1] * 100:.2f}%\")"
   ]
  }
 ],
 "metadata": {
  "kernelspec": {
   "display_name": "Python 3",
   "language": "python",
   "name": "python3"
  },
  "language_info": {
   "codemirror_mode": {
    "name": "ipython",
    "version": 3
   },
   "file_extension": ".py",
   "mimetype": "text/x-python",
   "name": "python",
   "nbconvert_exporter": "python",
   "pygments_lexer": "ipython3",
   "version": "3.12.6"
  }
 },
 "nbformat": 4,
 "nbformat_minor": 2
}
